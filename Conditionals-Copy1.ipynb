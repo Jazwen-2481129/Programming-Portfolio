{
 "cells": [
  {
   "cell_type": "code",
   "execution_count": null,
   "id": "00028cad",
   "metadata": {},
   "outputs": [],
   "source": [
    "print(\"WELCOME TO THE SURVEY TO DECIDE WHICH BOXING WEIGHT CLASS YOU BELONG TOO BEFORE YOU START TRAINING.\")"
   ]
  },
  {
   "cell_type": "code",
   "execution_count": null,
   "id": "30647f07",
   "metadata": {},
   "outputs": [],
   "source": [
    "Weight = input(\"WHAT IS YOUR WEIGHT IN KILOGRAMS: \")\n",
    "\n",
    "Height = input (\"WHAT IS YOUR HEIGHT IN CENTIMETRES:\")\n",
    "#The two inputs are needed in order for the conditionals used in the program to run"
   ]
  },
  {
   "cell_type": "code",
   "execution_count": null,
   "id": "7553be33",
   "metadata": {},
   "outputs": [],
   "source": [
    "if int(Weight)>=90 and int(Height)>=200:\n",
    "    print(\"YOU ARE QUALIFIED TO ENTER THE HEAVYWIEGHT DIVISION\")\n",
    "\n",
    "elif int(Weight) >=80 and  int(Height)>=180:\n",
    "    print(\"YOU ARE QUALIFIED FOR THE MIDDLEWEIGHT DIVISION\")\n",
    "\n",
    "elif int(Weight)>=70 and int(Height)>=150:\n",
    "    print(\"YOU ARE QUALIFIED FOR THE LIGHTWEIGHT DIVISION\")\n",
    "\n",
    "else :\n",
    "    print(\"YOU ARE QUALIFIED FOR THE FEATHERWEIGHT DIVISON\")\n",
    "# The if function will be carried out using the data from the inputs to match the criteria that best fufiles the \n",
    "# input condition"
   ]
  },
  {
   "cell_type": "code",
   "execution_count": null,
   "id": "fe5bcc25",
   "metadata": {},
   "outputs": [],
   "source": [
    "print(\"IF YOU DO NOT MEET ANY OF THE ABOVE AVERAGE CRIERIA DO THIS SURVEY INSTEAD.\")"
   ]
  },
  {
   "cell_type": "code",
   "execution_count": null,
   "id": "f6d02f41",
   "metadata": {},
   "outputs": [],
   "source": [
    "if int(Weight)>=90:\n",
    "    print(\"YOU ARE QUALIFIED TO ENTER THE HEAVYWIEGHT DIVISION\")\n",
    "        \n",
    "elif int(Weight) >=80:\n",
    "    print(\"YOU ARE QUALIFIED FOR THE MIDDLEWEIGHT DIVISION\")\n",
    "\n",
    "elif int(Weight)>=70:\n",
    "    print(\"YOU ARE QUALIFIED FOR THE LIGHTWEIGHT DIVISION\")\n",
    "\n",
    "else :\n",
    "    print(\"YOU ARE QUALIFIED FOR THE FEATHERWEIGHT DIVISON\") \n",
    "# A more simple conditional function in order to deal with any gaps in the original function."
   ]
  },
  {
   "cell_type": "code",
   "execution_count": null,
   "id": "cf717787",
   "metadata": {},
   "outputs": [],
   "source": [
    "print(\"THIS IS BASED SOLEY ON YOUR WEIGHT AND SHOULD BE SUFFIECENT IN ORDER TO START YOUR TRAINING.\")"
   ]
  }
 ],
 "metadata": {
  "kernelspec": {
   "display_name": "Python 3 (ipykernel)",
   "language": "python",
   "name": "python3"
  },
  "language_info": {
   "codemirror_mode": {
    "name": "ipython",
    "version": 3
   },
   "file_extension": ".py",
   "mimetype": "text/x-python",
   "name": "python",
   "nbconvert_exporter": "python",
   "pygments_lexer": "ipython3",
   "version": "3.9.12"
  }
 },
 "nbformat": 4,
 "nbformat_minor": 5
}
