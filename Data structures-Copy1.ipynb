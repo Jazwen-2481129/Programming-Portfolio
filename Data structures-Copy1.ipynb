{
 "cells": [
  {
   "cell_type": "code",
   "execution_count": null,
   "id": "db34919c",
   "metadata": {},
   "outputs": [],
   "source": [
    "Student_Data = {\n",
    "    \n",
    "    'Andy':{\"Student ID\":\"0001\",\"Name\":\"Andy\",\"Year\":\"1\",\"Modules\":[\"Biomolecules\",\"Animal Organs\",\"Core Skills 1\"]},\n",
    "    'Drew':{\"Student ID\":\"0002\",\"Name\":\"Drew\",\"Year\":\"2\",\"Modules\":[\"Anatomy\",\"Cell Communication\",\"Core Skills 2\"]},\n",
    "    'Tom':{\"Student ID\":\"0003\",\"Name\":\"Tom\",\"Year\":\"3\",\"Modules\":[\"Gene Expression\",\"Biomembranes\",\"Core Skills 3\"]}\n",
    "    \n",
    "    }\n",
    "# A list of Dictionaries that also contain seperate lists"
   ]
  },
  {
   "cell_type": "code",
   "execution_count": null,
   "id": "77d40b1c",
   "metadata": {},
   "outputs": [],
   "source": [
    "Data_Access = input(\"WHOSE DATA DO YOU WISH TO VIEW:\")\n",
    "# Student's data will be printed accroding to the name inputted\n",
    "\n",
    "Display_Data = Student_Data.get(Data_Access,\"This Student's data was not found\")\n",
    "# If the name of the student is in the Dictionary, all the  data pertaining to that student will be displayed. \n",
    "# However if the name of the student is not in the Dictionary the above message will be displayed instead.\n",
    "print(Display_Data)"
   ]
  },
  {
   "cell_type": "code",
   "execution_count": null,
   "id": "3fed4910",
   "metadata": {},
   "outputs": [],
   "source": [
    "Data_Input = input(\"DO YOU WISH TO ADD ANY NEW ENTRIES (Yes or no): \")\n",
    "\n",
    "if str(Data_Input) == \"Yes\":\n",
    "    New_Student_ID = input(\"ID: \")\n",
    "    New_Name = input(\"Name: \")\n",
    "    New_Year = input(\"Year: \")\n",
    "    New_Modules = input(\"Modules:[]\")\n",
    "    New_Data = {\"Student ID\":New_Student_ID,\"Name\":New_Name,\"Year\":New_Year,\"Modules\":New_Modules}\n",
    "    print(New_Data)\n",
    "# Will allow the user to create an entirely new student entry and will display it in a dictionary format."
   ]
  }
 ],
 "metadata": {
  "kernelspec": {
   "display_name": "Python 3 (ipykernel)",
   "language": "python",
   "name": "python3"
  },
  "language_info": {
   "codemirror_mode": {
    "name": "ipython",
    "version": 3
   },
   "file_extension": ".py",
   "mimetype": "text/x-python",
   "name": "python",
   "nbconvert_exporter": "python",
   "pygments_lexer": "ipython3",
   "version": "3.9.12"
  }
 },
 "nbformat": 4,
 "nbformat_minor": 5
}
