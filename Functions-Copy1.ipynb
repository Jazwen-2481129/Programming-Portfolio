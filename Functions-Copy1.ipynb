{
 "cells": [
  {
   "cell_type": "code",
   "execution_count": null,
   "id": "9ecafa22",
   "metadata": {},
   "outputs": [],
   "source": [
    "print=(\"This is a mini calculator.\")"
   ]
  },
  {
   "cell_type": "code",
   "execution_count": null,
   "id": "7c0bebd7",
   "metadata": {},
   "outputs": [],
   "source": [
    "Value_1 = input = (\"What is the first value you would like to use: \")\n",
    "Value_2 = input = (\"What is the second value you would like to use: \")\n",
    "# The two values from these inputs will be used in the defining of functions for the calculator"
   ]
  },
  {
   "cell_type": "code",
   "execution_count": null,
   "id": "b23a5dca",
   "metadata": {},
   "outputs": [],
   "source": [
    "def add(Value_1,Value_2):\n",
    "    return Value_1 + Value_2\n",
    "# The function add has been defined to add the two inputs\n",
    "\n",
    "def subtract(Value_1,Value_2):\n",
    "    return Value_1 - Value_2\n",
    "# The function subtract has been defined to subtract the second value from the first input \n",
    "\n",
    "def multi(Value_1,Value_2):\n",
    "    return Value_1 * Value_2\n",
    "# The function multi has been defined to multiply the two inputs\n",
    "\n",
    "def divi(Value_1,Value_2):\n",
    "    return Value_1 / Value_2\n",
    "# The function divi has been defined to divide the first input by the second one\n",
    "\n",
    "print(\"The value from adding the two values is:\")\n",
    "Final_Addition = add(Value_1,Value_2)\n",
    "print(Final_Addition)\n",
    "\n",
    "print(\"The value from subtracting the second value from the first is:\")\n",
    "subtract(Value_1,Value_2)\n",
    "Final_Subtraction = subtract(Value_1,Value_2)\n",
    "print(Final_Subtraction)\n",
    "\n",
    "print(\"The value from multiplying the two values is:\")\n",
    "multi(Value_1,Value_2)\n",
    "Final_Multiplication = multi(Value_1,Value_2)\n",
    "print(Final_Multiplication)\n",
    "\n",
    "print(\"The value from dividing the first value by the second is:\")\n",
    "divi(Value_1,Value_2)\n",
    "Final_Divison = divi(Value_1,Value_2)\n",
    "print(Final_Divison)\n",
    "# The above messages will be printed and will display all the answers to the basic operartions carried out using \n",
    "# the two input values\n"
   ]
  }
 ],
 "metadata": {
  "kernelspec": {
   "display_name": "Python 3 (ipykernel)",
   "language": "python",
   "name": "python3"
  },
  "language_info": {
   "codemirror_mode": {
    "name": "ipython",
    "version": 3
   },
   "file_extension": ".py",
   "mimetype": "text/x-python",
   "name": "python",
   "nbconvert_exporter": "python",
   "pygments_lexer": "ipython3",
   "version": "3.9.12"
  }
 },
 "nbformat": 4,
 "nbformat_minor": 5
}
