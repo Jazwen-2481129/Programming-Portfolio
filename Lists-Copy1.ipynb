{
 "cells": [
  {
   "cell_type": "code",
   "execution_count": null,
   "id": "ac1a44cc",
   "metadata": {},
   "outputs": [],
   "source": [
    "name = input(\"What is your Name: \")\n",
    "\n",
    "Greetings = str(\"Hello\")\n",
    "\n",
    "for Greet in Greetings:\n",
    "    print(Greet)\n",
    "    \n",
    "for character in name:              \n",
    "    print(character) \n",
    "# The name inputted will be turned into a list in addition to the greeting Hello."
   ]
  },
  {
   "cell_type": "code",
   "execution_count": null,
   "id": "6b895ba2",
   "metadata": {},
   "outputs": [],
   "source": [
    "with open('Text.txt','w') as f:\n",
    "    f.write(\"This is the to do list for today\")\n",
    "# Creates a new text file and writes the above text."
   ]
  },
  {
   "cell_type": "code",
   "execution_count": null,
   "id": "ef1e1f8f",
   "metadata": {},
   "outputs": [],
   "source": [
    "Mourning_Mood = input(\"How are you feeling today? Good or Bad: \")"
   ]
  },
  {
   "cell_type": "code",
   "execution_count": null,
   "id": "806ee58f",
   "metadata": {},
   "outputs": [],
   "source": [
    "if Mourning_Mood == \"Good\":\n",
    "    print(\"This is your to do list for the day\")\n",
    "    with open ('Plan.txt','r') as f_Plan:\n",
    "        sometext=f_Plan.read()\n",
    "    \n",
    "    print(sometext,end = \"\")\n",
    "# Takes data written in the Plan.txt file and displays it on the terminal for the user to view without having to open\n",
    "# the file.\n",
    "\n",
    "if Mourning_Mood == \"Bad\":\n",
    "    import mymodule\n",
    "    Response = mymodule.Bad_Day\n",
    "    print(Response)\n",
    "# Imports the data written in the mymodule.py and prints it in response to the 'if' conditional. "
   ]
  }
 ],
 "metadata": {
  "kernelspec": {
   "display_name": "Python 3 (ipykernel)",
   "language": "python",
   "name": "python3"
  },
  "language_info": {
   "codemirror_mode": {
    "name": "ipython",
    "version": 3
   },
   "file_extension": ".py",
   "mimetype": "text/x-python",
   "name": "python",
   "nbconvert_exporter": "python",
   "pygments_lexer": "ipython3",
   "version": "3.9.12"
  }
 },
 "nbformat": 4,
 "nbformat_minor": 5
}
